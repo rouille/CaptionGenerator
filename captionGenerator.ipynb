{
 "cells": [
  {
   "cell_type": "markdown",
   "metadata": {},
   "source": [
    "# Photo Data"
   ]
  },
  {
   "cell_type": "code",
   "execution_count": null,
   "metadata": {},
   "outputs": [],
   "source": [
    "from os import listdir\n",
    "\n",
    "directory = 'Flickr8k/Flicker8k_Dataset'\n",
    "files = [directory + '/' + name for name in listdir(directory)]\n",
    "\n",
    "print(\"Number of images: %d\" % len(files))"
   ]
  },
  {
   "cell_type": "code",
   "execution_count": null,
   "metadata": {},
   "outputs": [],
   "source": [
    "import numpy\n",
    "from keras.preprocessing import image\n",
    "from keras.applications.vgg16 import preprocess_input\n",
    "from keras.applications.vgg16 import VGG16\n",
    "\n",
    "model = VGG16(include_top=False)\n",
    "model.summary()\n",
    "\n",
    "def path_to_tensor(img_path):\n",
    "    img = image.load_img(img_path, target_size=(224, 224))\n",
    "    x = image.img_to_array(img)\n",
    "    return numpy.expand_dims(x, axis=0)"
   ]
  },
  {
   "cell_type": "code",
   "execution_count": null,
   "metadata": {},
   "outputs": [],
   "source": [
    "from tqdm import tqdm_notebook\n",
    "from pickle import dump\n",
    "\n",
    "features = dict()\n",
    "\n",
    "for file in tqdm_notebook(files):\n",
    "    tensor = preprocess_input(path_to_tensor(file))\n",
    "    feature = model.predict(tensor, verbose=0)\n",
    "    img_id = file.split('.')[0]\n",
    "    features[img_id] = feature\n",
    "    \n",
    "print(\"Number of features extracted: %d\" % len(features))\n",
    "dump(features, open('features.pkl', 'wb'))"
   ]
  }
 ],
 "metadata": {
  "kernelspec": {
   "display_name": "deeplearning",
   "language": "python",
   "name": "deeplearning"
  },
  "language_info": {
   "codemirror_mode": {
    "name": "ipython",
    "version": 3
   },
   "file_extension": ".py",
   "mimetype": "text/x-python",
   "name": "python",
   "nbconvert_exporter": "python",
   "pygments_lexer": "ipython3",
   "version": "3.5.3"
  }
 },
 "nbformat": 4,
 "nbformat_minor": 2
}
